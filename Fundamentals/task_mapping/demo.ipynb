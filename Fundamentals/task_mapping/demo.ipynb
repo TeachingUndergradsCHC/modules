{
 "cells": [
  {
   "cell_type": "markdown",
   "metadata": {
    "id": "4oC8d9i-1a60"
   },
   "source": [
    "## [Demo] Task Mapping on a DVFS-enabled Heterogeneous System\n",
    "[A2] Task Mapping on Soft Heterogeneous Systems   \n",
    "Apan Qasem [\\<apan@txstate.edu\\>](apan@txstate.edu)\n",
    "\n",
    "\n",
    "### Description \n",
    "\n",
    "Demonstrate the performance and energy impact of operational frequency on heterogeneous multicore systems. \n",
    "\n",
    "### Software and Tools\n",
    "\n",
    "The following Linux tools are used in this demo.\n",
    "\n",
    "  * `cpufrequtils`\n",
    "  * `cpupower`\n",
    "  * `perf`\n",
    "  * `energy`\n",
    "  * `taskset`\n",
    "  * `likwid`\n",
    "  * `gcc` (OpenMP support is already built-in the standard distribution for ubuntu)\n",
    "\n",
    "The demo also includes a simple C++/OpenMP code that performance matrix-vector multiplication in\n",
    "parallel. \n"
   ]
  },
  {
   "cell_type": "markdown",
   "metadata": {
    "id": "dzhbd6eb1a65"
   },
   "source": [
    "### Environment\n",
    "\n",
    "Below are instructions for setting a homogenous multicore system as a DVFS-supported heterogeneous platform. \n",
    "These steps should be carried out prior to class time. We created a [script](./code/build_hc_env.sh)\n",
    "to carry out these tasks automatically. Note the below tasks require root access. The installation commands are specific to Ubuntu -- for other platforms, you may need to adapt the commands to the suitable platform specific ones. Follow the\n",
    "guidelines in the script if root access is not available. \n",
    "\n",
    "**0. Download sample codes and utility scripts from the ToUCH repo**\n",
    "\n",
    "An OpenMP parallel implementation of matrix-vector multiplication is used as a running example for\n",
    "this demo. There are three utility scripts for tweaking the frequencies.  \n",
    "\n",
    "```bash \n",
    "git clone https://github.com/TeachingUndergradsCHC/modules.git\n",
    "```\n",
    " \n",
    "**1. Install necessary packages and their dependencies**\n",
    "\n",
    "Install `cpufrequtils`"
   ]
  },
  {
   "cell_type": "code",
   "execution_count": null,
   "metadata": {
    "id": "AtCAS3g51a66"
   },
   "outputs": [],
   "source": [
    "sudo apt install -y -qq cpufrequtils"
   ]
  },
  {
   "cell_type": "markdown",
   "metadata": {
    "id": "zlb5qeMH1a67"
   },
   "source": [
    "Install `perf`, `taskset` and `cpupower` if they are not alreay installed. These tools are available\n",
    "in the common tools package. The second package is specific to the linux kernel that you have -- if the kernel-specific version is not available from the repositories, you may need to download the kernel source and build this tool yourself. "
   ]
  },
  {
   "cell_type": "code",
   "execution_count": null,
   "metadata": {
    "id": "Jp0Nb7Ig1a67"
   },
   "outputs": [],
   "source": [
    "sudo apt install -y -qq linux-tools-common"
   ]
  },
  {
   "cell_type": "code",
   "execution_count": null,
   "metadata": {
    "id": "QP42nXIb1a68"
   },
   "outputs": [],
   "source": [
    "sudo apt install -y -qq linux-tools-`uname -r`"
   ]
  },
  {
   "cell_type": "markdown",
   "metadata": {
    "id": "In4jU1s71a68"
   },
   "source": [
    "**2. Check CPU clock frequencies**\n",
    "\n",
    "Clock frequencies of individual cores can be inspected with various utilites. "
   ]
  },
  {
   "cell_type": "code",
   "execution_count": null,
   "metadata": {
    "id": "Gly6rz-H1a68"
   },
   "outputs": [],
   "source": [
    "cpufreq-info"
   ]
  },
  {
   "cell_type": "markdown",
   "metadata": {
    "id": "zfnhRAf41a69"
   },
   "source": [
    "The ToUCH repository has a script that provides cleaner output. This script might be more suitable for the in-class demo. "
   ]
  },
  {
   "cell_type": "code",
   "execution_count": null,
   "metadata": {
    "id": "Jke7z5pE1a69"
   },
   "outputs": [],
   "source": [
    "## change to the code directory and setup the path to the mapping scripts\n",
    "cd code"
   ]
  },
  {
   "cell_type": "code",
   "execution_count": null,
   "metadata": {
    "id": "-kLMoE451a69"
   },
   "outputs": [],
   "source": [
    "./mapping_scripts/check_clk_speed.sh"
   ]
  },
  {
   "cell_type": "markdown",
   "metadata": {
    "id": "Vf__5d1Z1a69"
   },
   "source": [
    "**3. Lower frequencies for a subset of cores**\n",
    "\n",
    "We will simulate a less powerful (i.e., _little_) core by lowering its frequency to the lowest allowed\n",
    "value. To lower the frequency of an individual we can use the `cpupower` utility. We need to root privileges to change the clock frequency (obviously!). The commands below lowers the frequency of core 0 to 1.80 GHz. "
   ]
  },
  {
   "cell_type": "code",
   "execution_count": null,
   "metadata": {
    "id": "aAWh4r3k1a6-"
   },
   "outputs": [],
   "source": [
    "sudo cpupower -c 0 frequency-set -d 1800000\n",
    "sudo cpupower -c 0 frequency-set -u 1800000"
   ]
  },
  {
   "cell_type": "markdown",
   "metadata": {
    "id": "ezGpsIO21a6-"
   },
   "source": [
    "Verify if the change has taken effect"
   ]
  },
  {
   "cell_type": "code",
   "execution_count": null,
   "metadata": {
    "id": "kKqug70_1a6-"
   },
   "outputs": [],
   "source": [
    "./mapping_scripts/check_clk_speed.sh"
   ]
  },
  {
   "cell_type": "markdown",
   "metadata": {
    "id": "3V8zwTih1a6-"
   },
   "source": [
    "The syntax for the `cpupower` utility is a little cumbersome when we are trying to fix the frequency to a specific value. The `set_clk_speed.sh` script in the ToUCH repo is a wrapper around `cpupower` that provides a cleaner interface. "
   ]
  },
  {
   "cell_type": "code",
   "execution_count": null,
   "metadata": {
    "id": "I3QlBWAD1a6_"
   },
   "outputs": [],
   "source": [
    "sudo mapping_scripts/set_clk_speed.sh 0-3 1.8"
   ]
  },
  {
   "cell_type": "code",
   "execution_count": null,
   "metadata": {
    "id": "v36CK2RM1a6_"
   },
   "outputs": [],
   "source": [
    "./mapping_scripts/check_clk_speed.sh"
   ]
  },
  {
   "cell_type": "markdown",
   "metadata": {
    "id": "ndqvZ9fJ1a6_"
   },
   "source": [
    "There is another script `reset_clk_speed.sh` that resets the frequencies to their default values. "
   ]
  },
  {
   "cell_type": "code",
   "execution_count": null,
   "metadata": {
    "id": "uJFy02Pw1a6_"
   },
   "outputs": [],
   "source": [
    "sudo ./mapping_scripts/reset_clk_speed.sh 0-3"
   ]
  },
  {
   "cell_type": "code",
   "execution_count": null,
   "metadata": {
    "id": "TizpKWHS1a6_"
   },
   "outputs": [],
   "source": [
    "check_clk_speed.sh"
   ]
  },
  {
   "cell_type": "markdown",
   "metadata": {
    "id": "bl4W_MGR1a7A"
   },
   "source": [
    "To configure this multi-core system as \"big-LITTLE\", we will lower the frequencies for cores Lstart-Lend for now. These cores will serve as the _little_ cores. Later we will setup other cores as the _big_ cores. Other more complex configurations can be easily set up if the instructor chooses to do a more involved (e.g., in a CS2 course rather CS1)"
   ]
  },
  {
   "cell_type": "code",
   "execution_count": null,
   "metadata": {},
   "outputs": [],
   "source": [
    "# the CPU number for little CPUs\n",
    "export Lstart=0\n",
    "export Lend=3"
   ]
  },
  {
   "cell_type": "code",
   "execution_count": null,
   "metadata": {
    "id": "6swOK_Hk1a7A"
   },
   "outputs": [],
   "source": [
    "# setup the speed for the little CPUs\n",
    "sudo ./mapping_scripts/set_clk_speed.sh $Lstart-$Lend 1.8"
   ]
  },
  {
   "cell_type": "code",
   "execution_count": null,
   "metadata": {
    "id": "EVkQruQG1a7A"
   },
   "outputs": [],
   "source": [
    "./mapping_scripts/check_clk_speed.sh"
   ]
  },
  {
   "cell_type": "markdown",
   "metadata": {
    "id": "2ccJWA8x1a7A"
   },
   "source": [
    "### Instructions \n",
    "\n",
    "The main steps for the in-class demo are outlined below\n",
    "\n",
    "**1. Discuss heterogeneous system.**\n",
    "\n",
    "Log into system that has been set up to simulate a heterogeneous system (or use this notebook) and review it's attributes."
   ]
  },
  {
   "cell_type": "code",
   "execution_count": null,
   "metadata": {
    "id": "kiN0q9GW1a7B"
   },
   "outputs": [],
   "source": [
    "cpufreq-info"
   ]
  },
  {
   "cell_type": "markdown",
   "metadata": {
    "id": "2rc2GxKG1a7B"
   },
   "source": [
    "**2. Review matrix-multiply code**\n",
    "\n",
    "Pull up the matrix-vector source code in an editor and do a walk-through.\n",
    "\n",
    "  * discuss command-line arguments \n",
    "  * discuss basics of an OpenMP directive\n",
    "  \n",
    "```C++\n",
    "double dot_prod(double *x, double *y, int n) {\n",
    "  double sum = 0.0;\n",
    "  int i;\n",
    "#pragma omp parallel for reduction(+:sum)\n",
    "  for (i = 0; i < n; i++)\n",
    "      sum += x[i] * y[i];\n",
    "  return sum;\n",
    "}\n",
    "\n",
    "void matrix_vector_mult(double **mat, double *vec, double *result,\n",
    "                        long long rows, long long cols) {\n",
    "\n",
    "  /* not parallelelized to ensure runtimes are more meaningful */\n",
    "  int i;\n",
    "  for (i = 0; i < rows; i++)\n",
    "    result[i] = dot_prod(mat[i], vec, cols);\n",
    "}\n",
    "```"
   ]
  },
  {
   "cell_type": "markdown",
   "metadata": {
    "id": "-IFhkagx1a7B"
   },
   "source": [
    "**3. Build the code on the command-line**"
   ]
  },
  {
   "cell_type": "markdown",
   "metadata": {},
   "source": [
    "If `gcc` is not installed yet, you can install it using the following command:\n",
    "```bash \n",
    "    sudo apt install -y -qq gcc\n",
    "```"
   ]
  },
  {
   "cell_type": "code",
   "execution_count": null,
   "metadata": {
    "id": "OL0-UKqI1a7B",
    "scrolled": true
   },
   "outputs": [],
   "source": [
    "gcc -o matvec -fopenmp -O3 matvec.c"
   ]
  },
  {
   "cell_type": "markdown",
   "metadata": {
    "id": "O00CtR101a7B"
   },
   "source": [
    " `matvec` is parallelized with OpenMP. So the `-fopenmp` flag is required. Compiling at `-O3` is\n",
    "   likely to give more predictable performance numbers. \n",
    "   \n",
    "**4. Run and time the sequential and parallel version of the code**\n",
    "\n",
    "Run the code with a single thread (i.e., serial version). The matrix size and number of reps can be\n",
    "adjusted based on the system where the code is running and the amount of time to be devoted to this\n",
    "demo. With 10000 and 20 the sequential version should run for 3-4 seconds. "
   ]
  },
  {
   "cell_type": "code",
   "execution_count": null,
   "metadata": {
    "id": "l1gMwsm_1a7C"
   },
   "outputs": [],
   "source": [
    "time ./matvec 10000 20 1"
   ]
  },
  {
   "cell_type": "code",
   "execution_count": null,
   "metadata": {
    "id": "19sdgCV61a7C"
   },
   "outputs": [],
   "source": [
    "time ./matvec 10000 20 2"
   ]
  },
  {
   "cell_type": "markdown",
   "metadata": {
    "id": "T4iGDwxD1a7C"
   },
   "source": [
    "Discuss the performance improvements with parallelization. Time permitting, the code can be run with\n",
    "2, 4, ... N threads (where N = number of processing cores on the system) to show the scalability of\n",
    "the code and discuss Amdahl's Law. \n",
    "\n",
    "**4. Discuss mapping of threads to processors**\n",
    "\n",
    "   Introduce the `taskset` utility and discuss how it can be used to map threads to processing cores."
   ]
  },
  {
   "cell_type": "code",
   "execution_count": null,
   "metadata": {
    "id": "uRx4eINR1a7C"
   },
   "outputs": [],
   "source": [
    "## run program on core 0 with 4 threads \n",
    "taskset -c $Lstart ./matvec 10000 20 4"
   ]
  },
  {
   "cell_type": "code",
   "execution_count": null,
   "metadata": {
    "id": "0A60fZn81a7C"
   },
   "outputs": [],
   "source": [
    "## run program on 2 cores (Lstart and Lstart+1) with 4 threads \n",
    "taskset -c $Lstart,$(($Lstart+1)) ./matvec 10000 20 4"
   ]
  },
  {
   "cell_type": "markdown",
   "metadata": {
    "id": "fJRSbkkG1a7D"
   },
   "source": [
    "**5. Run code on _little_ cores**\n",
    "  \n",
    "  Run the code on the cores set up as little cores and measure execution time. Set the number of threads to the number of little cores. "
   ]
  },
  {
   "cell_type": "code",
   "execution_count": null,
   "metadata": {
    "id": "GEsg0z4u1a7D"
   },
   "outputs": [],
   "source": [
    "taskset -c $Lstart-$Lend ./matvec 10000 20 $(($Lend-$Lstart+1))"
   ]
  },
  {
   "cell_type": "markdown",
   "metadata": {
    "id": "ZZGXBDfn1a7D"
   },
   "source": [
    "Re-run the code and measure detailed performance metrics with `perf`"
   ]
  },
  {
   "cell_type": "code",
   "execution_count": null,
   "metadata": {
    "id": "3GPsOc8g1a7E"
   },
   "outputs": [],
   "source": [
    "perf stat taskset -c $Lstart-$Lend ./matvec 10000 20 $(($Lend-$Lstart+1))"
   ]
  },
  {
   "cell_type": "markdown",
   "metadata": {
    "id": "janMQ7zM1a7E"
   },
   "source": [
    "Re-run the code and measure power and energy"
   ]
  },
  {
   "cell_type": "code",
   "execution_count": null,
   "metadata": {
    "id": "GDmX3Ows1a7E"
   },
   "outputs": [],
   "source": [
    "likwid-perfctr -c $Lstart-$Lend -g ENERGY taskset -c $Lstart-$Lend ./matvec 10000 20 $(($Lend-$Lstart+1))"
   ]
  },
  {
   "cell_type": "markdown",
   "metadata": {
    "id": "tumfxpTj1a7E"
   },
   "source": [
    "**6. Run code on _big_ cores**\n",
    "\n",
    "   Run the code on the cores set up as little cores and measure execution time."
   ]
  },
  {
   "cell_type": "code",
   "execution_count": null,
   "metadata": {},
   "outputs": [],
   "source": [
    "# the CPU number for BIG CPUs\n",
    "export Bstart=0\n",
    "export Bend=3"
   ]
  },
  {
   "cell_type": "code",
   "execution_count": null,
   "metadata": {},
   "outputs": [],
   "source": [
    "# find the maximum frequency of the CPUs\n",
    "export MaxFreq=`cpufreq-info | grep limits | head -1 | awk '{print $6}'`\n",
    "echo $MaxFreq"
   ]
  },
  {
   "cell_type": "code",
   "execution_count": null,
   "metadata": {},
   "outputs": [],
   "source": [
    "# set the clock speed for the BIG CPUs\n",
    "sudo ./mapping_scripts/set_clk_speed.sh $Bstart-$Bend $MaxFreq"
   ]
  },
  {
   "cell_type": "code",
   "execution_count": null,
   "metadata": {},
   "outputs": [],
   "source": [
    "./mapping_scripts/check_clk_speed.sh"
   ]
  },
  {
   "cell_type": "code",
   "execution_count": null,
   "metadata": {
    "id": "75vNplXb1a7E"
   },
   "outputs": [],
   "source": [
    "time taskset -c $Bstart-$Bend ./matvec 10000 20 $(($Bend-$Bstart+1))"
   ]
  },
  {
   "cell_type": "markdown",
   "metadata": {
    "id": "QmR8gDLO1a7E"
   },
   "source": [
    "Re-run the code and measure power and energy."
   ]
  },
  {
   "cell_type": "code",
   "execution_count": null,
   "metadata": {
    "id": "Amq7kibm1a7F",
    "scrolled": true
   },
   "outputs": [],
   "source": [
    "likwid-perfctr -c $Bstart-$Bend -g ENERGY taskset -c $Bstart-$Bend ./matvec 10000 20 $(($Bend-$Bstart+1))"
   ]
  },
  {
   "cell_type": "code",
   "execution_count": null,
   "metadata": {},
   "outputs": [],
   "source": [
    "# reset the cpu clock speed for both little and big cores\n",
    "\n",
    "./mapping_scripts/reset_clk_speed.sh $Lstart-$Lend\n",
    "./mapping_scripts/reset_clk_speed.sh $Bstart-$Bend"
   ]
  },
  {
   "cell_type": "markdown",
   "metadata": {
    "id": "PXGAZuND1a7F"
   },
   "source": [
    "**7. Discuss the implications of the results** \n",
    "\n",
    "   * little cores will consume less power than big cores\n",
    "   * little cores will have lower performance than big cores\n",
    "   * threads must be mapped to cores based on the characteristic of the application and the target\n",
    "     objective"
   ]
  }
 ],
 "metadata": {
  "colab": {
   "collapsed_sections": [],
   "name": "demo.ipynb",
   "provenance": []
  },
  "kernelspec": {
   "display_name": "Bash",
   "language": "bash",
   "name": "bash"
  },
  "language_info": {
   "codemirror_mode": "shell",
   "file_extension": ".sh",
   "mimetype": "text/x-sh",
   "name": "bash"
  }
 },
 "nbformat": 4,
 "nbformat_minor": 1
}
