{
 "cells": [
  {
   "cell_type": "markdown",
   "id": "4d5e7941",
   "metadata": {},
   "source": [
    "## [Demo] Hello World in OpenMP \n",
    "[D2] Heterogeneous Programming with OpenMP  \n",
    "Apan Qasem [\\<apan@txstate.edu\\>](apan@txstate.edu)\n",
    "\n",
    "### Description\n",
    "\n",
    "An in-class interactive walk-through of the Hello World program, parallelized using OpenMP. \n",
    "\n",
    "\n",
    "### Outline \n",
    "\n",
    "  * [Setting up OpenMP in Linux](#env)\n",
    "  * [Compiling and running an OpenMP program](#compile) (`gcc` command-line)\n",
    "  * [OpenMP pragmas:](#pragma)  `parallel`\n",
    "  * [OpenMP API:](#api) `omp_set_num_threads(), omp_get_num_threads(), omp_get_thread_num()`\n",
    "\n",
    "\n",
    "### <a name=\"env\"></a>Setting up OpenMP in Linux\n",
    "All mainstream compilers today provide integrated support for OpenMP. Each compiler has its own\n",
    "implementation of the OpenMP standard. The OpenMP libraries and header files are packaged and\n",
    "distributed with the compiler. So, no software packages need to be installed to build and run OpenMP\n",
    "applications as long as there is a more-or-less recent compiler installed on the system. \n",
    "\n",
    "We can check the version of the compiler in our system as follows (ada is the name of the\n",
    "machine where the commands in this demo were run). GCC ..."
   ]
  },
  {
   "cell_type": "code",
   "execution_count": null,
   "id": "37b45717",
   "metadata": {},
   "outputs": [],
   "source": [
    "gcc --version"
   ]
  },
  {
   "cell_type": "markdown",
   "id": "2a38b53c",
   "metadata": {},
   "source": [
    "... and LLVM"
   ]
  },
  {
   "cell_type": "code",
   "execution_count": null,
   "id": "4177f6e0",
   "metadata": {},
   "outputs": [],
   "source": [
    "clang --version"
   ]
  },
  {
   "cell_type": "markdown",
   "id": "f8f3a7b4",
   "metadata": {},
   "source": [
    "### <a name=\"compile\"></a>Compiling and running an OpenMP program\n",
    "\n",
    "Below is the canonical Hello World program written in C."
   ]
  },
  {
   "cell_type": "markdown",
   "id": "84728867-95cf-43f6-8c3d-9a364cd6c485",
   "metadata": {
    "attributes": {
     "classes": [
      "C"
     ],
     "id": ""
    }
   },
   "source": [
    "```C\n",
    "#include<stdio.h>\n",
    "int main() {\n",
    "  printf(\"Hello World!\\n\");\n",
    "  return 0;\n",
    "}\n",
    "```"
   ]
  },
  {
   "cell_type": "markdown",
   "id": "b9b64cc3",
   "metadata": {},
   "source": [
    "We will implement an OpenMP version of this program. Generally, the first step in writing an OpenMP\n",
    "program is including the header file (although in this trivial example we could have done without this)"
   ]
  },
  {
   "cell_type": "markdown",
   "id": "1fda3350-19ea-4514-8186-9c7a0dd3e8f1",
   "metadata": {},
   "source": [
    "```C\n",
    "#include<omp.h>\n",
    "```"
   ]
  },
  {
   "cell_type": "markdown",
   "id": "e88a7091",
   "metadata": {},
   "source": [
    "On Linux systems, `omp.h` is located `/usr/include`. Since this is in the compiler's search path for\n",
    "header files there is no need to specify an include path (with the `-I` flag) in the compilation\n",
    "command. We can compile and create an executable with the following command."
   ]
  },
  {
   "cell_type": "code",
   "execution_count": null,
   "id": "1b678076",
   "metadata": {},
   "outputs": [],
   "source": [
    "gcc -o hello -fopenmp hello.c"
   ]
  },
  {
   "cell_type": "markdown",
   "id": "539652bd",
   "metadata": {},
   "source": [
    "The only difference from a regular build command is the inclusion of the `-fopenmp` flag. This flag\n",
    "tells `gcc` that we are building an OpenMP application. We can now execute this  program from the\n",
    "command-line just like a serial program."
   ]
  },
  {
   "cell_type": "code",
   "execution_count": null,
   "id": "4fc8def4",
   "metadata": {},
   "outputs": [],
   "source": [
    "./hello"
   ]
  },
  {
   "cell_type": "markdown",
   "id": "33abe3a6",
   "metadata": {},
   "source": [
    "### <a name=\"pragma\"></a>OpenMP pragmas\n",
    "\n",
    "OpenMP uses a pragma-based syntax. All parallelization and associated directives must be specified\n",
    "via pragmas. All pragmas have the following format"
   ]
  },
  {
   "cell_type": "markdown",
   "id": "92f4b69a-a966-41e5-b722-b117ea79f84d",
   "metadata": {},
   "source": [
    "```C\n",
    "#pragma omp <directive> [ options ]\n",
    "```"
   ]
  },
  {
   "cell_type": "markdown",
   "id": "ddedb42a",
   "metadata": {},
   "source": [
    "`#pragma` tells the compiler that this line is to be processed by a pre-processor (not the compiler\n",
    "    itself). `omp` says that the directive is to be processed by OpenMP. `<directive>` specifies the\n",
    "    action to be taken on the code that immediately follows the pragma. The `<directive>` can be\n",
    "    followed by a set of optional arguments. In OpenMP terminology, these arguments are called\n",
    "    *clauses* (more on this in the next demo).  \n",
    "\n",
    "\n",
    "**The `parallel` pragma:** One of the simplest pragmas in OpenMP is the `parallel` directive. It can\n",
    "   be used to parallelize a block of code within an application. We will insert the parallel\n",
    "   directive into our Hello World program."
   ]
  },
  {
   "cell_type": "markdown",
   "id": "e061e40f-1852-4146-b2ae-b6aa8411b534",
   "metadata": {
    "attributes": {
     "classes": [
      "C"
     ],
     "id": ""
    },
    "tags": []
   },
   "source": [
    "```C\n",
    "#include<stdio.h>\n",
    "#include<omp.h>\n",
    "int main() {\n",
    "  #pragma omp parallel\n",
    "  printf(\"Hello World!\\n\");\n",
    "  return 0;\n",
    "}\n",
    "```"
   ]
  },
  {
   "cell_type": "markdown",
   "id": "c3d2e89c",
   "metadata": {},
   "source": [
    "This directive will execute the `printf` statement in parallel. This means that OpenMP will create\n",
    "    _n_ threads where each thread will execute an instance of the `printf` statement. All _n_\n",
    "    threads will execute this statement in parallel. We can build and execute this code as before.\n",
    "\n",
    "_Can we predict the output?_"
   ]
  },
  {
   "cell_type": "code",
   "execution_count": null,
   "id": "8df38d85",
   "metadata": {},
   "outputs": [],
   "source": [
    "gcc -o hello -fopenmp hello.c\n",
    "./hello "
   ]
  },
  {
   "cell_type": "markdown",
   "id": "862f9309",
   "metadata": {},
   "source": [
    "_How many threads were created?_\n",
    "\t\n",
    "**Thread count:** We can use the `wc` utility to count the number of lines of output from any program."
   ]
  },
  {
   "cell_type": "code",
   "execution_count": null,
   "id": "0e3ee32e",
   "metadata": {},
   "outputs": [],
   "source": [
    "./hello | wc -l "
   ]
  },
  {
   "cell_type": "markdown",
   "id": "3efb0262",
   "metadata": {},
   "source": [
    "OpenMP decided to create 12 threads in this case. \n",
    "\t\n",
    "_Can we guess why?_ \n",
    "\t\n",
    "If we do not tell OpenMP how many threads to use, it will apply its own judgment to select the\n",
    "number of threads. In many situations, the number of threads will correspond to the number of processing cores  available. We can check the number of cores available on our with `lscpu` command"
   ]
  },
  {
   "cell_type": "code",
   "execution_count": null,
   "id": "61a7c50b",
   "metadata": {},
   "outputs": [],
   "source": [
    "lscpu"
   ]
  },
  {
   "cell_type": "markdown",
   "id": "3b7734f5",
   "metadata": {},
   "source": [
    "**pragma scoping rules:** By default OpenMP pragmas apply to the next statement only. This is often\n",
    "    not very useful for parallelization as we just saw with our first Hello World example. If we\n",
    "    want the `pragma` to have an impact on a block of code then we can enclose the region with curly\n",
    "    braces `{}` (_almost_ similar to what we do in C/C++)"
   ]
  },
  {
   "cell_type": "markdown",
   "id": "eda13cec-295d-4fd5-90cf-8720c9242bca",
   "metadata": {
    "attributes": {
     "classes": [
      "C"
     ],
     "id": ""
    }
   },
   "source": [
    "```C\n",
    "int main() {\n",
    "  #pragma omp parallel {\n",
    "    printf(\"Hello World\\n\");\n",
    "  }\n",
    "  return 0;\n",
    "}\n",
    "```"
   ]
  },
  {
   "cell_type": "markdown",
   "id": "e34e06f2",
   "metadata": {},
   "source": [
    "The above prompts the compiler to throw the following error. The error message is somewhat cryptic. \n",
    "\t\n",
    "_Can we figure out why the compiler is complaining?_"
   ]
  },
  {
   "cell_type": "code",
   "execution_count": null,
   "id": "18750d86",
   "metadata": {},
   "outputs": [],
   "source": [
    "gcc -o hello -fopenmp hello.c"
   ]
  },
  {
   "cell_type": "markdown",
   "id": "7d6ad754",
   "metadata": {},
   "source": [
    "**Compiler quirks:** Unlike C/C++, blocks in OpenMP _must_ start on a newline. Remember, OpenMP\n",
    "    directives are being processed by the pre-processor, not the compiler. (Not being able to place\n",
    "    the opening brace on the same line is a small sacrifice in style for some of us). We can now add\n",
    "    multiple statements inside the block to be parallelized by OpenMP."
   ]
  },
  {
   "cell_type": "markdown",
   "id": "89ed5c93-eede-42f9-b4af-adca36764109",
   "metadata": {
    "attributes": {
     "classes": [
      "C"
     ],
     "id": ""
    }
   },
   "source": [
    "```C\n",
    "int main() {\n",
    "  #pragma omp parallel \n",
    "  {\n",
    "    printf(\"Hello World\\n\");\n",
    "    printf(\"Goodbye World!\\n\");\n",
    "  }\n",
    "  return 0;\n",
    "}\n",
    "```"
   ]
  },
  {
   "cell_type": "markdown",
   "id": "b4833d0f",
   "metadata": {},
   "source": [
    "Let's compile this version."
   ]
  },
  {
   "cell_type": "code",
   "execution_count": null,
   "id": "055d0dc8",
   "metadata": {},
   "outputs": [],
   "source": [
    "gcc -o hello -fopenmp hello.c \n",
    "./hello "
   ]
  },
  {
   "cell_type": "markdown",
   "id": "d7473361",
   "metadata": {},
   "source": [
    "**`parallel` semantics:**  We observe that Hello and Goodbye statements are not being printed in\n",
    "    order. OpenMP has created 12 threads for the block Each threads executes both statements in the\n",
    "    block and all threads are running in parallel. The output is dependent on which threads gets\n",
    "    control over I/O first and will change from one run to the next. Of course, in real programs, we\n",
    "    will want more control over the parallel execution. \n",
    "\n",
    "### <a name=\"api\"></a>OpenMP API\n",
    "OpenMP provides an extensive API to get information from executing threads and to configure the\n",
    "   parallel execution environment. `omp_set_num_threads()` allows us to \n",
    "   tell OpenMP how many threads it should in a parallel block of code. `omp_get_num_threads()` gives\n",
    "   us the number of threads that OpenMP is actually using. This function must be called from inside\n",
    "   a parallel region. If called from outside it returns 1. Each thread created by OpenMP has a\n",
    "   unique ID (this is different from the thread ID maintained by the OS). The thread ID can be\n",
    "   retrieved at runtime with `omp_get_thread_num()`. \n",
    "   \n",
    "   We will now utilize these functions to track the parallel execution of our Hello World program."
   ]
  },
  {
   "cell_type": "markdown",
   "id": "5c321374-967b-44ed-bd89-b0d5e65f2726",
   "metadata": {
    "attributes": {
     "classes": [
      "C"
     ],
     "id": ""
    }
   },
   "source": [
    "```C\n",
    "#include<stdio.h>\n",
    "#include<omp.h>\n",
    "\t\n",
    "int main() {\n",
    "\t\n",
    "  omp_set_num_threads(4);\n",
    "  #pragma omp parallel\n",
    "  {\n",
    "    printf(\"Hello World from thread %u of %u.\\n\", omp_get_thread_num(), omp_get_num_threads());\n",
    "    printf(\"Goodbye World from thread %u of %u.\\n\", omp_get_thread_num(), omp_get_num_threads());\n",
    "  }\n",
    "  return 0;\n",
    "}\n",
    "```"
   ]
  },
  {
   "cell_type": "markdown",
   "id": "77816d7a",
   "metadata": {},
   "source": [
    "This program limits the number of OpenMP threads to 4. The parallel segment then prints out the ID\n",
    "\t\tof each thread created by OpenMP and the total number of threads."
   ]
  },
  {
   "cell_type": "code",
   "execution_count": null,
   "id": "affc0d4b",
   "metadata": {},
   "outputs": [],
   "source": [
    "gcc -o hello -fopenmp hello.c\n",
    "./hello "
   ]
  },
  {
   "cell_type": "markdown",
   "id": "19176fa2",
   "metadata": {},
   "source": [
    "The number of threads in `omp_set_num_threads()` does not have to be a compile-time constant. It can be determined at runtime."
   ]
  }
 ],
 "metadata": {
  "kernelspec": {
   "display_name": "Bash",
   "language": "bash",
   "name": "bash"
  },
  "language_info": {
   "codemirror_mode": "shell",
   "file_extension": ".sh",
   "mimetype": "text/x-sh",
   "name": "bash"
  }
 },
 "nbformat": 4,
 "nbformat_minor": 5
}
