{
 "cells": [
  {
   "cell_type": "markdown",
   "id": "96b88de4",
   "metadata": {},
   "source": [
    "## [Demo] OpenMP Performance Scalability \n",
    "[D2] Heterogeneous Programming with OpenMP  \n",
    "Apan Qasem [\\<apan@txstate.edu\\>](apan@txstate.edu)\n",
    "\n",
    "### Description\n",
    "\n",
    "This interactive demo discusses the importance and significance of thread count in OpenMP\n",
    "applications. It is assumed that students know how to write a Hello World program in OpenMP (e.g.,\n",
    "have completed the ([Hello World in OpenMP](demo_hello_world.md)) tutorial. \n",
    "\n",
    "The demo also introduces the `parallel for` directive. A simple matrix-scalar multiplication code is\n",
    "used as a running example. \n",
    "\n",
    "### Outline \n",
    "\n",
    "   * [The OpenMP Hello World Program](#hello)\n",
    "   * [Dynamic Thread Count](#timing)\n",
    "   * [Parallelizing with `parallel for`](#pragma) \n",
    "   * [Thread Count ans Scalability](#thread_count)\n",
    "\n",
    "\n",
    "### <a name=\"hello\"></a>The OpenMP Hello World Program\n",
    "\n",
    "Below is the Hello World program with OpenMP parallelization that we wrote in our previous tutorial\n",
    "([Hello World in OpenMP](demo_hello_world.md))."
   ]
  },
  {
   "cell_type": "markdown",
   "id": "adfaeaca-1172-43af-b227-19cee32e481d",
   "metadata": {
    "attributes": {
     "classes": [
      "C"
     ],
     "id": ""
    }
   },
   "source": [
    "```C\n",
    "#include<stdio.h>\n",
    "#include<omp.h>\n",
    "\t\n",
    "int main() {\n",
    "\t\n",
    "  omp_set_num_threads(4);\n",
    "  #pragma omp parallel\n",
    "  {\n",
    "    printf(\"Hello World from thread %u of %u.\\n\", omp_get_thread_num(), omp_get_num_threads());\n",
    "    printf(\"Goodbye World from thread %u of %u.\\n\", omp_get_thread_num(), omp_get_num_threads());\n",
    "  }\n",
    "  return 0;\n",
    "}\n",
    "```"
   ]
  },
  {
   "cell_type": "markdown",
   "id": "04afd5bc",
   "metadata": {},
   "source": [
    "The above program will run with 4 OpenMP threads. The parallel segment will print out the ID of each\n",
    "thread created by OpenMP and the total number of threads launched."
   ]
  },
  {
   "cell_type": "code",
   "execution_count": null,
   "id": "8ab4a7d8",
   "metadata": {},
   "outputs": [],
   "source": [
    "gcc -o hello -fopenmp hello.c\n",
    "./hello"
   ]
  },
  {
   "cell_type": "markdown",
   "id": "bcb84822",
   "metadata": {},
   "source": [
    "### <a name=\"timing\"></a>Dynamic Thread Count \n",
    "\n",
    "Because we specified the thread count at compile-time, the above program will _always_  launched\n",
    "with 4 threads. threads. Generally, this is not a good approach when programming with OpenMP. We\n",
    "want better control over OpenMP threads and be able to specify the number of threads considering a\n",
    "variety of factors including the target CPU, input size and task granularity. \n",
    "\n",
    "\n",
    "To set the number of threads dynamically, we can pass the thread count to the program as a\n",
    "command-line argument."
   ]
  },
  {
   "cell_type": "markdown",
   "id": "d4288f0f-5f86-4f48-85b5-e6e98fbfea8b",
   "metadata": {
    "attributes": {
     "classes": [
      "C"
     ],
     "id": ""
    }
   },
   "source": [
    "```C\n",
    "#include<stdio.h>\n",
    "#include<stdlib.h>\n",
    "#include<omp.h>\n",
    "\n",
    "int main(int argc, char* argv[]) {\n",
    "\n",
    "  int num_threads;\n",
    "  if (argc <= 1)\n",
    "    num_threads = 1;\n",
    "  else\n",
    "    num_threads = atoi(argv[1]);\n",
    "\n",
    "  omp_set_num_threads(num_threads);\n",
    "  ...\n",
    "  ...\n",
    "```      "
   ]
  },
  {
   "cell_type": "markdown",
   "id": "f8040bae",
   "metadata": {},
   "source": [
    "This approach will allow us to choose a different thread count for different runs of the\n",
    "program. Further, if we want to run the serial version of the code (say, for testing purposes), we\n",
    "can just pass 1 as the command-line argument. \n",
    "\n",
    "Let us run the sequential version and time the run."
   ]
  },
  {
   "cell_type": "code",
   "execution_count": null,
   "id": "b9714673",
   "metadata": {},
   "outputs": [],
   "source": [
    "gcc -o hello -fopenmp hello.c\n",
    "time ./hello 1"
   ]
  },
  {
   "cell_type": "markdown",
   "id": "14b5dbfc",
   "metadata": {},
   "source": [
    "The Linux `time` command doesn't really give us satisfactory resolution for measuring the\n",
    "performance of this _tiny_ program. We can use\n",
    "[`perf`](https://perf.wiki.kernel.org/index.php/Main_Page) to get better measurements."
   ]
  },
  {
   "cell_type": "code",
   "execution_count": null,
   "id": "2bb50c20",
   "metadata": {},
   "outputs": [],
   "source": [
    "perf stat ./hello 1"
   ]
  },
  {
   "cell_type": "markdown",
   "id": "f50f45dd",
   "metadata": {},
   "source": [
    "Now, let's run the code with 2 threads."
   ]
  },
  {
   "cell_type": "code",
   "execution_count": null,
   "id": "99ab7731",
   "metadata": {},
   "outputs": [],
   "source": [
    "perf stat ./hello 2"
   ]
  },
  {
   "cell_type": "markdown",
   "id": "a5b4ce3e",
   "metadata": {},
   "source": [
    "_How much performance improvement do we get by running this code in parallel?_\n",
    "\n",
    "None! This very simple code is not useful for doing any kind of performance analysis. \n",
    "\n",
    "### <a name=\"pragma\"></a>Parallelizing with `parallel for`\n",
    "\n",
    "Let's look at a code that is slightly more complex."
   ]
  },
  {
   "cell_type": "markdown",
   "id": "0c9f6871-e335-42b1-9c44-4e72692a0f5a",
   "metadata": {
    "attributes": {
     "classes": [
      "C"
     ],
     "id": ""
    }
   },
   "source": [
    "```C\n",
    "for (j = 0; j < M; j++)\n",
    "  for (i = 0; i < M; i++)\n",
    "    b[i][j] = i + j;\n",
    "\n",
    "t0 = mysecond();\n",
    "#pragma omp parallel for\n",
    "  for (int k = 0; k < REPS; k++) {\n",
    "    for (int j = 0; j < M; j++)\n",
    "      for (int i = 0; i < M; i++)\n",
    "        a[i][j] = b[i][j] * 17;\n",
    "  }\n",
    "\n",
    "t0 = (mysecond() - t0) * 1.e3;\n",
    "printf(\"parallel loop = %3.2f ms\\n\", t0);\n",
    "```"
   ]
  },
  {
   "cell_type": "markdown",
   "id": "46eaed3c",
   "metadata": {},
   "source": [
    "The above program scales the values in an array by a constant factor. The loop is parallelized with the\n",
    "`parallel for` directive. This directive is an extension of the `parallel` directive and is applied\n",
    "exclusively to the *next* for loop. The `parallel for` directive will equally divide the iterations\n",
    "of the loop and run them in parallel. The number of threads to be created is passed via a command-line\n",
    "argument. There's a built-in timer to record the execution time of the parallel loop. \n",
    "\n",
    "\n",
    "\n",
    "### <a name=\"thread_count\"></a>Thread Count and Scalability \n",
    "\n",
    "Let's build and execute the sequential version of the code."
   ]
  },
  {
   "cell_type": "code",
   "execution_count": null,
   "id": "6dd1c349",
   "metadata": {},
   "outputs": [],
   "source": [
    "g++ -o scale scale.c -fopenmp\n",
    "./scale 1000 1"
   ]
  },
  {
   "cell_type": "markdown",
   "id": "57a5be3c",
   "metadata": {},
   "source": [
    "Let's run it with 2 threads."
   ]
  },
  {
   "cell_type": "code",
   "execution_count": null,
   "id": "8117a6aa",
   "metadata": {},
   "outputs": [],
   "source": [
    "./scale 1000 2"
   ]
  },
  {
   "cell_type": "markdown",
   "id": "a3429e7e",
   "metadata": {},
   "source": [
    "The parallel version runs significantly faster. However note, even with this very simple code we are\n",
    "not able to double the performance when we increase the number of threads from 1 to 2. \n",
    "\n",
    "_Why?_\n",
    "\n",
    "See [Heterogeneous Computing: Elementary Notions](../../Fundamentals/elementary_notions) for one\n",
    "explanation. \n",
    "\n",
    "\n",
    "Now let's run the code with 12 threads which is what OpenMP would pick for this system if we did not\n",
    "specify the thread count ourselves."
   ]
  },
  {
   "cell_type": "code",
   "execution_count": null,
   "id": "018f7d97",
   "metadata": {},
   "outputs": [],
   "source": [
    "./scale 1000 12"
   ]
  },
  {
   "cell_type": "markdown",
   "id": "033561b1",
   "metadata": {},
   "source": [
    "This gives use about a 5x performance improvement over the sequential code. Not bad... but\n",
    "not ideal either. \n",
    "\n",
    "_What if we kept on increasing the number of threads, do we expect to get more parallelism?_"
   ]
  },
  {
   "cell_type": "code",
   "execution_count": null,
   "id": "a2801b1a",
   "metadata": {},
   "outputs": [],
   "source": [
    "./scale 1000 32\n",
    "./scale 1000 64\n",
    "./scale 1000 128"
   ]
  },
  {
   "cell_type": "markdown",
   "id": "f8868c4a",
   "metadata": {},
   "source": [
    "_Does this performance pattern reminds us of something?_\n",
    "\n",
    "This program becomes [compute-bound](https://en.wikipedia.org/wiki/CPU-bound) when the number of\n",
    "threads is substantially higher than the available processing cores. At that point increasing the\n",
    "number of threads doesn't give us any benefits (in fact in some cases it can actually hurt due to\n",
    "thread creation overhead). \n",
    "\n",
    "The ideal number of threads for a given program depends on many factors. Often some fine-tuning is\n",
    "necessary. \n",
    "\n",
    "### Exercise \n",
    "\n",
    "Compile and run the `matrix-scale` code on your own machine with increasing number of\n",
    "threads. What is the ideal thread count?"
   ]
  }
 ],
 "metadata": {
  "kernelspec": {
   "display_name": "Bash",
   "language": "bash",
   "name": "bash"
  },
  "language_info": {
   "codemirror_mode": "shell",
   "file_extension": ".sh",
   "mimetype": "text/x-sh",
   "name": "bash"
  }
 },
 "nbformat": 4,
 "nbformat_minor": 5
}
