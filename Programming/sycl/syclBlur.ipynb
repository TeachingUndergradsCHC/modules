{
  "nbformat": 4,
  "nbformat_minor": 0,
  "metadata": {
    "colab": {
      "name": "syclBlur.ipynb",
      "private_outputs": true,
      "provenance": []
    },
    "kernelspec": {
      "name": "python3",
      "display_name": "Python 3"
    },
    "language_info": {
      "name": "python"
    }
  },
  "cells": [
    {
      "cell_type": "markdown",
      "metadata": {
        "id": "3h5ZLJeKDnIM"
      },
      "source": [
        "This notebook will set up colab so that you can run the SYCL blur lab for the module \"Introduction to SYCYL programming\" created by the TOUCH project.  (https://github.com/TeachingUndergradsCHC/modules/tree/master/Programming/sycl).  The initial setup instructions are created following slides by Aksel Alpay\n",
        "https://www.iwocl.org/wp-content/uploads/iwocl-syclcon-2020-alpay-32-slides.pdf\n",
        "and the hipSCYL documentation https://github.com/illuhad/hipSYCL/blob/develop/doc/installing.md .\n",
        "\n",
        "Begin by setting your runtime to use a CPU (Select \"Change runtime type\" in the Runtime menu and choose \"CPU\".)  Then run the first couple of instructions below.  Run them one at a time, waiting for each to finish before beginning the next.  This will take several minutes."
      ]
    },
    {
      "cell_type": "markdown",
      "metadata": {
        "id": "N4ewtSSGkOFf"
      },
      "source": [
        "Update repositories and then get and build llvm so can build hipSYCL."
      ]
    },
    {
      "cell_type": "code",
      "metadata": {
        "id": "H_g5S-Smr2s7"
      },
      "source": [
        "!apt update -qq;\n",
        "!apt-get update -qq;\n",
        "!add-apt-repository -y ppa:ubuntu-toolchain-r/test\n",
        "!apt update\n",
        "!apt install gcc-11 g++-11\n",
        "!bash -c \"$(wget -O - https://apt.llvm.org/llvm.sh)\"\n",
        "!apt-get install libboost-all-dev libclang-13-dev cmake python -qq;\n",
        "!git clone --recurse-submodules https://github.com/illuhad/hipSYCL"
      ],
      "execution_count": null,
      "outputs": []
    },
    {
      "cell_type": "code",
      "metadata": {
        "id": "20UozKK92JSB"
      },
      "source": [
        "!apt-get upgrade"
      ],
      "execution_count": null,
      "outputs": []
    },
    {
      "cell_type": "markdown",
      "metadata": {
        "id": "DsfVppXukgqL"
      },
      "source": [
        "Now build hipSYCL"
      ]
    },
    {
      "cell_type": "code",
      "metadata": {
        "id": "VHJlc5jODlIG"
      },
      "source": [
        "\n",
        "!mkdir hipSYCL_build\n",
        "%cd hipSYCL_build\n",
        "!export CC=/usr/bin/gcc-11\n",
        "!export CXX=/usr/bin/g++-11\n",
        "!cmake -DCMAKE_INSTALL_PREFIX=/content/hipSYCL_install -DCMAKE_C_COMPILER=/usr/bin/gcc-11 -DCMAKE_CXX_COMPILER=/usr/bin/g++-11 /content/hipSYCL\n",
        "!make install\n",
        "%cd .."
      ],
      "execution_count": null,
      "outputs": []
    },
    {
      "cell_type": "markdown",
      "metadata": {
        "id": "1NIaAhcj5nuJ"
      },
      "source": [
        "Get the examples"
      ]
    },
    {
      "cell_type": "code",
      "metadata": {
        "id": "VHC3IBXC417b"
      },
      "source": [
        "!git clone https://github.com/TeachingUndergradsCHC/modules\n",
        "%cd modules/Programming/sycl"
      ],
      "execution_count": null,
      "outputs": []
    },
    {
      "cell_type": "markdown",
      "metadata": {
        "id": "s5onvx132KLO"
      },
      "source": [
        "Examine hello.cpp"
      ]
    },
    {
      "cell_type": "code",
      "metadata": {
        "id": "91Klqo732NbX"
      },
      "source": [
        "!cat hello.cpp"
      ],
      "execution_count": null,
      "outputs": []
    },
    {
      "cell_type": "markdown",
      "metadata": {
        "id": "bp2Xz4O2FPqW"
      },
      "source": [
        "Now compile hello.cpp"
      ]
    },
    {
      "cell_type": "code",
      "metadata": {
        "id": "UNADeshu5zoq"
      },
      "source": [
        "!/content/hipSYCL_install/bin/syclcc  --hipsycl-platform=cpu -o hello hello.cpp"
      ],
      "execution_count": null,
      "outputs": []
    },
    {
      "cell_type": "markdown",
      "metadata": {
        "id": "vcrJoKCyS0S8"
      },
      "source": [
        "Then run it"
      ]
    },
    {
      "cell_type": "code",
      "metadata": {
        "id": "UxDqBEqE69Fz"
      },
      "source": [
        "!./hello"
      ],
      "execution_count": null,
      "outputs": []
    },
    {
      "cell_type": "markdown",
      "metadata": {
        "id": "zxaE93cf7dvT"
      },
      "source": [
        "Now try the addVector program, first view it"
      ]
    },
    {
      "cell_type": "code",
      "metadata": {
        "id": "ElVZ5TuVTTvd"
      },
      "source": [
        "\n",
        "!cat addVectors.cpp"
      ],
      "execution_count": null,
      "outputs": []
    },
    {
      "cell_type": "markdown",
      "metadata": {
        "id": "_z5ml5fPTezf"
      },
      "source": [
        "Then compile it"
      ]
    },
    {
      "cell_type": "code",
      "metadata": {
        "id": "mYL_ukLd7PbW"
      },
      "source": [
        "!/content/hipSYCL_install/bin/syclcc --hipsycl-platform=cpu -o addVectors addVectors.cpp"
      ],
      "execution_count": null,
      "outputs": []
    },
    {
      "cell_type": "markdown",
      "metadata": {
        "id": "VFm2XPX7Th3l"
      },
      "source": [
        "Finally run it"
      ]
    },
    {
      "cell_type": "code",
      "metadata": {
        "id": "D4D2zSwI7iwd"
      },
      "source": [
        "!./addVectors"
      ],
      "execution_count": null,
      "outputs": []
    },
    {
      "cell_type": "markdown",
      "metadata": {
        "id": "Epta_l7pK6Tl"
      },
      "source": [
        "Next, examine the files that you'll need for the blur project.  These are the library code for managing bmp files (stb_image.h and stb_image_write.h), the image that you'll be using (I provide 640x426.bmp, but you could use another file instead) and the program itself noRed.cpp. Then compile it"
      ]
    },
    {
      "cell_type": "code",
      "metadata": {
        "id": "cVa7IRbwLv25"
      },
      "source": [
        "!/content/hipSYCL_install/bin/syclcc  --hipsycl-platform=cpu -o noRed noRed.cpp\n",
        "\n"
      ],
      "execution_count": null,
      "outputs": []
    },
    {
      "cell_type": "markdown",
      "metadata": {
        "id": "EzwxalTJ8WTE"
      },
      "source": [
        "Now run the code"
      ]
    },
    {
      "cell_type": "code",
      "metadata": {
        "id": "u7-Gdj3q8YXO"
      },
      "source": [
        "!./noRed"
      ],
      "execution_count": null,
      "outputs": []
    },
    {
      "cell_type": "markdown",
      "metadata": {
        "id": "yXXCrW0HAify"
      },
      "source": [
        "Original Image"
      ]
    },
    {
      "cell_type": "code",
      "metadata": {
        "id": "RGWu8Tg5AU-_"
      },
      "source": [
        "from IPython.display import display\n",
        "from PIL import Image\n",
        "\n",
        "\n",
        "path=\"/content/modules/Programming/sycl/640x426.bmp\"\n",
        "display(Image.open(path))"
      ],
      "execution_count": null,
      "outputs": []
    },
    {
      "cell_type": "markdown",
      "metadata": {
        "id": "3LI1Rm3AAnz-"
      },
      "source": [
        "Final Image"
      ]
    },
    {
      "cell_type": "code",
      "metadata": {
        "id": "EBMMGOfHAqkY"
      },
      "source": [
        "from IPython.display import display\n",
        "from PIL import Image\n",
        "\n",
        "\n",
        "path=\"/content/modules/Programming/sycl/out.bmp\"\n",
        "display(Image.open(path))"
      ],
      "execution_count": null,
      "outputs": []
    }
  ]
}
